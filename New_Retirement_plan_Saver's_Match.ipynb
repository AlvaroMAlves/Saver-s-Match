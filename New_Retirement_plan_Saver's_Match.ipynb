{
  "nbformat": 4,
  "nbformat_minor": 0,
  "metadata": {
    "colab": {
      "provenance": [],
      "toc_visible": true,
      "authorship_tag": "ABX9TyNV0NgUpAiHe2mJHDMLGDv7",
      "include_colab_link": true
    },
    "kernelspec": {
      "name": "python3",
      "display_name": "Python 3"
    },
    "language_info": {
      "name": "python"
    }
  },
  "cells": [
    {
      "cell_type": "markdown",
      "metadata": {
        "id": "view-in-github",
        "colab_type": "text"
      },
      "source": [
        "<a href=\"https://colab.research.google.com/github/AlvaroMAlves/Saver-s-Match/blob/main/New_Retirement_plan_Saver's_Match.ipynb\" target=\"_parent\"><img src=\"https://colab.research.google.com/assets/colab-badge.svg\" alt=\"Open In Colab\"/></a>"
      ]
    },
    {
      "cell_type": "markdown",
      "source": [
        "# Projeto: New Retirement plan: Saver's Match"
      ],
      "metadata": {
        "id": "G_Zth_mmLpYd"
      }
    },
    {
      "cell_type": "markdown",
      "source": [
        "## Calculando novos valores"
      ],
      "metadata": {
        "id": "nKUzvh2DlQNh"
      }
    },
    {
      "cell_type": "markdown",
      "source": [
        "Aqui, irei criar um df 'dados', com duas novas colunas: additional_retirement_savings, que é o valor que poderá ser aucmulado com o novo plano de aposentadoria Saver's Match, e new_accumulated_capital, que será a soma do acumulado no plano antigo e no novo."
      ],
      "metadata": {
        "id": "H_g3U5MYlha6"
      }
    },
    {
      "cell_type": "code",
      "source": [
        "import pandas as pd\n",
        "\n",
        "url = 'https://raw.githubusercontent.com/AlvaroMAlves/Saver-s-Match/main/data.csv'\n",
        "dados = pd.read_csv(url)\n",
        "# Dataset is now stored in a Pandas Dataframe"
      ],
      "metadata": {
        "id": "l869761sggfF"
      },
      "execution_count": 83,
      "outputs": []
    },
    {
      "cell_type": "code",
      "execution_count": 84,
      "metadata": {
        "colab": {
          "base_uri": "https://localhost:8080/",
          "height": 300
        },
        "id": "m6bNdeicLnTe",
        "outputId": "64833a65-dbc4-4577-debe-a5393c9626a9"
      },
      "outputs": [
        {
          "output_type": "execute_result",
          "data": {
            "text/plain": [
              "         Unnamed: 0   initial_age        weight   family_kind          race  \\\n",
              "count  47626.000000  47626.000000  47626.000000  47626.000000  47626.000000   \n",
              "mean   23812.500000     48.379793   1551.159535      1.730756      1.693634   \n",
              "std    13748.586297      8.064861    942.788098      0.852361      1.014817   \n",
              "min        0.000000     35.000000     98.000000      1.000000      1.000000   \n",
              "25%    11906.250000     42.000000    811.250000      1.000000      1.000000   \n",
              "50%    23812.500000     48.000000   1500.000000      1.000000      1.000000   \n",
              "75%    35718.750000     55.000000   1971.000000      3.000000      2.000000   \n",
              "max    47625.000000     63.000000   9349.000000      3.000000      4.000000   \n",
              "\n",
              "       marital_status  accumulated_capital  annual_contribution         income  \n",
              "count    47626.000000         4.762600e+04         47626.000000   47626.000000  \n",
              "mean         2.245454         2.483036e+04             0.175277   70240.892997  \n",
              "std          1.554839         1.705045e+05             0.101389   49720.565014  \n",
              "min          1.000000        -5.119091e+05             0.000000     250.650000  \n",
              "25%          1.000000        -8.116163e+04             0.090000   33878.760000  \n",
              "50%          1.000000         2.280218e+04             0.180000   59084.150000  \n",
              "75%          3.000000         1.016781e+05             0.260000   94320.602500  \n",
              "max          5.000000         1.111905e+06             0.350000  473601.750000  "
            ],
            "text/html": [
              "\n",
              "  <div id=\"df-76fde482-f81a-466c-9fe2-fb5ae343c005\">\n",
              "    <div class=\"colab-df-container\">\n",
              "      <div>\n",
              "<style scoped>\n",
              "    .dataframe tbody tr th:only-of-type {\n",
              "        vertical-align: middle;\n",
              "    }\n",
              "\n",
              "    .dataframe tbody tr th {\n",
              "        vertical-align: top;\n",
              "    }\n",
              "\n",
              "    .dataframe thead th {\n",
              "        text-align: right;\n",
              "    }\n",
              "</style>\n",
              "<table border=\"1\" class=\"dataframe\">\n",
              "  <thead>\n",
              "    <tr style=\"text-align: right;\">\n",
              "      <th></th>\n",
              "      <th>Unnamed: 0</th>\n",
              "      <th>initial_age</th>\n",
              "      <th>weight</th>\n",
              "      <th>family_kind</th>\n",
              "      <th>race</th>\n",
              "      <th>marital_status</th>\n",
              "      <th>accumulated_capital</th>\n",
              "      <th>annual_contribution</th>\n",
              "      <th>income</th>\n",
              "    </tr>\n",
              "  </thead>\n",
              "  <tbody>\n",
              "    <tr>\n",
              "      <th>count</th>\n",
              "      <td>47626.000000</td>\n",
              "      <td>47626.000000</td>\n",
              "      <td>47626.000000</td>\n",
              "      <td>47626.000000</td>\n",
              "      <td>47626.000000</td>\n",
              "      <td>47626.000000</td>\n",
              "      <td>4.762600e+04</td>\n",
              "      <td>47626.000000</td>\n",
              "      <td>47626.000000</td>\n",
              "    </tr>\n",
              "    <tr>\n",
              "      <th>mean</th>\n",
              "      <td>23812.500000</td>\n",
              "      <td>48.379793</td>\n",
              "      <td>1551.159535</td>\n",
              "      <td>1.730756</td>\n",
              "      <td>1.693634</td>\n",
              "      <td>2.245454</td>\n",
              "      <td>2.483036e+04</td>\n",
              "      <td>0.175277</td>\n",
              "      <td>70240.892997</td>\n",
              "    </tr>\n",
              "    <tr>\n",
              "      <th>std</th>\n",
              "      <td>13748.586297</td>\n",
              "      <td>8.064861</td>\n",
              "      <td>942.788098</td>\n",
              "      <td>0.852361</td>\n",
              "      <td>1.014817</td>\n",
              "      <td>1.554839</td>\n",
              "      <td>1.705045e+05</td>\n",
              "      <td>0.101389</td>\n",
              "      <td>49720.565014</td>\n",
              "    </tr>\n",
              "    <tr>\n",
              "      <th>min</th>\n",
              "      <td>0.000000</td>\n",
              "      <td>35.000000</td>\n",
              "      <td>98.000000</td>\n",
              "      <td>1.000000</td>\n",
              "      <td>1.000000</td>\n",
              "      <td>1.000000</td>\n",
              "      <td>-5.119091e+05</td>\n",
              "      <td>0.000000</td>\n",
              "      <td>250.650000</td>\n",
              "    </tr>\n",
              "    <tr>\n",
              "      <th>25%</th>\n",
              "      <td>11906.250000</td>\n",
              "      <td>42.000000</td>\n",
              "      <td>811.250000</td>\n",
              "      <td>1.000000</td>\n",
              "      <td>1.000000</td>\n",
              "      <td>1.000000</td>\n",
              "      <td>-8.116163e+04</td>\n",
              "      <td>0.090000</td>\n",
              "      <td>33878.760000</td>\n",
              "    </tr>\n",
              "    <tr>\n",
              "      <th>50%</th>\n",
              "      <td>23812.500000</td>\n",
              "      <td>48.000000</td>\n",
              "      <td>1500.000000</td>\n",
              "      <td>1.000000</td>\n",
              "      <td>1.000000</td>\n",
              "      <td>1.000000</td>\n",
              "      <td>2.280218e+04</td>\n",
              "      <td>0.180000</td>\n",
              "      <td>59084.150000</td>\n",
              "    </tr>\n",
              "    <tr>\n",
              "      <th>75%</th>\n",
              "      <td>35718.750000</td>\n",
              "      <td>55.000000</td>\n",
              "      <td>1971.000000</td>\n",
              "      <td>3.000000</td>\n",
              "      <td>2.000000</td>\n",
              "      <td>3.000000</td>\n",
              "      <td>1.016781e+05</td>\n",
              "      <td>0.260000</td>\n",
              "      <td>94320.602500</td>\n",
              "    </tr>\n",
              "    <tr>\n",
              "      <th>max</th>\n",
              "      <td>47625.000000</td>\n",
              "      <td>63.000000</td>\n",
              "      <td>9349.000000</td>\n",
              "      <td>3.000000</td>\n",
              "      <td>4.000000</td>\n",
              "      <td>5.000000</td>\n",
              "      <td>1.111905e+06</td>\n",
              "      <td>0.350000</td>\n",
              "      <td>473601.750000</td>\n",
              "    </tr>\n",
              "  </tbody>\n",
              "</table>\n",
              "</div>\n",
              "      <button class=\"colab-df-convert\" onclick=\"convertToInteractive('df-76fde482-f81a-466c-9fe2-fb5ae343c005')\"\n",
              "              title=\"Convert this dataframe to an interactive table.\"\n",
              "              style=\"display:none;\">\n",
              "        \n",
              "  <svg xmlns=\"http://www.w3.org/2000/svg\" height=\"24px\"viewBox=\"0 0 24 24\"\n",
              "       width=\"24px\">\n",
              "    <path d=\"M0 0h24v24H0V0z\" fill=\"none\"/>\n",
              "    <path d=\"M18.56 5.44l.94 2.06.94-2.06 2.06-.94-2.06-.94-.94-2.06-.94 2.06-2.06.94zm-11 1L8.5 8.5l.94-2.06 2.06-.94-2.06-.94L8.5 2.5l-.94 2.06-2.06.94zm10 10l.94 2.06.94-2.06 2.06-.94-2.06-.94-.94-2.06-.94 2.06-2.06.94z\"/><path d=\"M17.41 7.96l-1.37-1.37c-.4-.4-.92-.59-1.43-.59-.52 0-1.04.2-1.43.59L10.3 9.45l-7.72 7.72c-.78.78-.78 2.05 0 2.83L4 21.41c.39.39.9.59 1.41.59.51 0 1.02-.2 1.41-.59l7.78-7.78 2.81-2.81c.8-.78.8-2.07 0-2.86zM5.41 20L4 18.59l7.72-7.72 1.47 1.35L5.41 20z\"/>\n",
              "  </svg>\n",
              "      </button>\n",
              "      \n",
              "  <style>\n",
              "    .colab-df-container {\n",
              "      display:flex;\n",
              "      flex-wrap:wrap;\n",
              "      gap: 12px;\n",
              "    }\n",
              "\n",
              "    .colab-df-convert {\n",
              "      background-color: #E8F0FE;\n",
              "      border: none;\n",
              "      border-radius: 50%;\n",
              "      cursor: pointer;\n",
              "      display: none;\n",
              "      fill: #1967D2;\n",
              "      height: 32px;\n",
              "      padding: 0 0 0 0;\n",
              "      width: 32px;\n",
              "    }\n",
              "\n",
              "    .colab-df-convert:hover {\n",
              "      background-color: #E2EBFA;\n",
              "      box-shadow: 0px 1px 2px rgba(60, 64, 67, 0.3), 0px 1px 3px 1px rgba(60, 64, 67, 0.15);\n",
              "      fill: #174EA6;\n",
              "    }\n",
              "\n",
              "    [theme=dark] .colab-df-convert {\n",
              "      background-color: #3B4455;\n",
              "      fill: #D2E3FC;\n",
              "    }\n",
              "\n",
              "    [theme=dark] .colab-df-convert:hover {\n",
              "      background-color: #434B5C;\n",
              "      box-shadow: 0px 1px 3px 1px rgba(0, 0, 0, 0.15);\n",
              "      filter: drop-shadow(0px 1px 2px rgba(0, 0, 0, 0.3));\n",
              "      fill: #FFFFFF;\n",
              "    }\n",
              "  </style>\n",
              "\n",
              "      <script>\n",
              "        const buttonEl =\n",
              "          document.querySelector('#df-76fde482-f81a-466c-9fe2-fb5ae343c005 button.colab-df-convert');\n",
              "        buttonEl.style.display =\n",
              "          google.colab.kernel.accessAllowed ? 'block' : 'none';\n",
              "\n",
              "        async function convertToInteractive(key) {\n",
              "          const element = document.querySelector('#df-76fde482-f81a-466c-9fe2-fb5ae343c005');\n",
              "          const dataTable =\n",
              "            await google.colab.kernel.invokeFunction('convertToInteractive',\n",
              "                                                     [key], {});\n",
              "          if (!dataTable) return;\n",
              "\n",
              "          const docLinkHtml = 'Like what you see? Visit the ' +\n",
              "            '<a target=\"_blank\" href=https://colab.research.google.com/notebooks/data_table.ipynb>data table notebook</a>'\n",
              "            + ' to learn more about interactive tables.';\n",
              "          element.innerHTML = '';\n",
              "          dataTable['output_type'] = 'display_data';\n",
              "          await google.colab.output.renderOutput(dataTable, element);\n",
              "          const docLink = document.createElement('div');\n",
              "          docLink.innerHTML = docLinkHtml;\n",
              "          element.appendChild(docLink);\n",
              "        }\n",
              "      </script>\n",
              "    </div>\n",
              "  </div>\n",
              "  "
            ]
          },
          "metadata": {},
          "execution_count": 84
        }
      ],
      "source": [
        "dados.describe()"
      ]
    },
    {
      "cell_type": "code",
      "source": [
        "import math\n",
        "import numpy as np\n",
        "\n",
        "# Função para calcular o novo valor de income a cada ano\n",
        "def calculate_adjusted_income(initial_income, initial_age, current_age):\n",
        "    inflation_rate = 0.044  # Taxa de inflação anual de 4,4%\n",
        "    years_passed = current_age - initial_age\n",
        "    adjusted_income = initial_income * (1 + inflation_rate) ** years_passed\n",
        "    return adjusted_income\n",
        "\n",
        "# Criando a coluna additional_retirement_savings preenchida com zeros\n",
        "dados['additional_retirement_savings'] = 0\n",
        "\n",
        "# Criando uma lista para armazenar as contribuições\n",
        "contributions = []\n",
        "\n",
        "# Iterando sobre as linhas do dataframe\n",
        "for index, row in dados.iterrows():\n",
        "    # Obtendo os valores das colunas relevantes\n",
        "    family_kind = row['family_kind']\n",
        "    marital_status = row['marital_status']\n",
        "    initial_income = row['income']\n",
        "    annual_contribution = row['annual_contribution']\n",
        "    initial_age = row['initial_age']\n",
        "\n",
        "    # Iniciando as variáveis com as faixas principais, levando em conta casais com contas conjuntas.\n",
        "    # De acordo com algumas pesquisas, estipulei que serão três faixas:\n",
        "    #\n",
        "    #     threshold: incomes até 41000 (inclusive) terão um depósito do governo de 50%\n",
        "    #                sobre o total da contribuição anual na conta de aposentadoria, até o limit_amount de 5000\n",
        "    #\n",
        "    #     phaseout: incomes entre 41000 e 45000 (inclusive) terão um depósito de 20%\n",
        "    #\n",
        "    #     limit: incomes entre 45000 e 71000 (inclusive) terão um depósito de 10%\n",
        "    #\n",
        "    # Embora haja uma questão na lei que dizendo sobre alguns casos em que viúvas também possam participar\n",
        "    # dessa faixa principal, não considerei isso em meu projeto.\n",
        "    limit_amount = 5000\n",
        "    threshold = 41000\n",
        "    phaseout = 45000\n",
        "    limit = 71000\n",
        "\n",
        "    # Alterando as faixas para 75% do valor principal, caso sejam chefes de família casados,\n",
        "    # ou 50% do valor principal caso sejam solteiros.\n",
        "    if family_kind == 2 or family_kind == 3:\n",
        "        if marital_status == 1:\n",
        "            threshold = 0.75 * threshold\n",
        "            phaseout = 0.75 * phaseout\n",
        "            limit = 0.75 * limit\n",
        "        else:\n",
        "            threshold = 0.5 * threshold\n",
        "            phaseout = 0.5 * phaseout\n",
        "            limit = 0.5 * limit\n",
        "\n",
        "    # Iterando até a idade de 65 anos, recalculando as faixas e o income anualmente\n",
        "    additional_retirement_savings = 0  # Variável para acumular as contribuições\n",
        "    for age in range(int(initial_age), 66):\n",
        "        # Recalculando o income\n",
        "        current_income = calculate_adjusted_income(initial_income, initial_age, age)\n",
        "\n",
        "        # Verificando se o income está dentro das faixas para calcular o additional_retirement_savings\n",
        "        if current_income <= threshold:\n",
        "            contribution = min(current_income * annual_contribution * 0.5, limit_amount)\n",
        "        elif current_income <= phaseout:\n",
        "            contribution = min(current_income * annual_contribution * 0.2, limit_amount)\n",
        "        elif current_income <= limit:\n",
        "            contribution = min(current_income * annual_contribution * 0.1, limit_amount)\n",
        "        else:\n",
        "            contribution = 0\n",
        "\n",
        "        # Corrigindo os valores com a inflação (no caso das faixas, assumi que seja sempre um múltiplo de 100, de acordo com algumas pesquisas que fiz.\n",
        "        # Atualmente, esse valor é arredondado para o múltiplo mais próximo de 500).\n",
        "        # Isso faz com que algumas linhas acabem entrando e saindo das faixas, devido ao income crescer sem esse arredondamento.\n",
        "        limit_amount = limit_amount * (1 + 0.044)\n",
        "        threshold = round(threshold * (1 + 0.044), -2)\n",
        "        phaseout = round(phaseout * (1 + 0.044), -2)\n",
        "        limit = round(limit * (1 + 0.044), -2)\n",
        "\n",
        "        # Acumulando o valor de additional_retirement_savings\n",
        "        additional_retirement_savings += contribution\n",
        "\n",
        "    # Adicionando o valor acumulado à lista de contribuições\n",
        "    contributions.append(additional_retirement_savings)\n",
        "\n",
        "# Atribuindo a lista de contribuições à coluna additional_retirement_savings do dataframe\n",
        "dados['additional_retirement_savings'] = contributions\n",
        "\n",
        "# Calculando o valor da coluna new_accumulated_capital\n",
        "dados['new_accumulated_capital'] = dados['additional_retirement_savings']\n",
        "\n",
        "# Iterando sobre as linhas do dataframe novamente\n",
        "for index, row in dados.iterrows():\n",
        "    initial_age = row['initial_age']\n",
        "    add_ret_sav = row['additional_retirement_savings']\n",
        "    acc_cap = row['accumulated_capital']\n",
        "\n",
        "    # Calculando o ano final da simulação\n",
        "    final_year = int(2020 + 65 - initial_age)\n",
        "\n",
        "    # Atualizando o valor do capital acumulado\n",
        "    dados.loc[index, 'new_accumulated_capital'] = add_ret_sav + acc_cap"
      ],
      "metadata": {
        "id": "n3frbuKgzR7v"
      },
      "execution_count": 85,
      "outputs": []
    },
    {
      "cell_type": "markdown",
      "source": [
        "Além de criar a coluna 'new_accumulated_capital', achei útil também ter a additional_retirement_savings. Passando a df 'dados' para csv:"
      ],
      "metadata": {
        "id": "SAJMZ9k0avh3"
      }
    },
    {
      "cell_type": "code",
      "source": [
        "from google.colab import files\n",
        "\n",
        "# Salvar o DataFrame em um arquivo CSV\n",
        "dados.to_csv('new_scenario.csv', index=False)\n",
        "\n",
        "# Fazer o download do arquivo CSV\n",
        "files.download('new_scenario.csv')"
      ],
      "metadata": {
        "colab": {
          "base_uri": "https://localhost:8080/",
          "height": 17
        },
        "id": "vAQF-V8ZapmG",
        "outputId": "cdd59132-db1e-4b67-b599-fd6273331e62"
      },
      "execution_count": 87,
      "outputs": [
        {
          "output_type": "display_data",
          "data": {
            "text/plain": [
              "<IPython.core.display.Javascript object>"
            ],
            "application/javascript": [
              "\n",
              "    async function download(id, filename, size) {\n",
              "      if (!google.colab.kernel.accessAllowed) {\n",
              "        return;\n",
              "      }\n",
              "      const div = document.createElement('div');\n",
              "      const label = document.createElement('label');\n",
              "      label.textContent = `Downloading \"${filename}\": `;\n",
              "      div.appendChild(label);\n",
              "      const progress = document.createElement('progress');\n",
              "      progress.max = size;\n",
              "      div.appendChild(progress);\n",
              "      document.body.appendChild(div);\n",
              "\n",
              "      const buffers = [];\n",
              "      let downloaded = 0;\n",
              "\n",
              "      const channel = await google.colab.kernel.comms.open(id);\n",
              "      // Send a message to notify the kernel that we're ready.\n",
              "      channel.send({})\n",
              "\n",
              "      for await (const message of channel.messages) {\n",
              "        // Send a message to notify the kernel that we're ready.\n",
              "        channel.send({})\n",
              "        if (message.buffers) {\n",
              "          for (const buffer of message.buffers) {\n",
              "            buffers.push(buffer);\n",
              "            downloaded += buffer.byteLength;\n",
              "            progress.value = downloaded;\n",
              "          }\n",
              "        }\n",
              "      }\n",
              "      const blob = new Blob(buffers, {type: 'application/binary'});\n",
              "      const a = document.createElement('a');\n",
              "      a.href = window.URL.createObjectURL(blob);\n",
              "      a.download = filename;\n",
              "      div.appendChild(a);\n",
              "      a.click();\n",
              "      div.remove();\n",
              "    }\n",
              "  "
            ]
          },
          "metadata": {}
        },
        {
          "output_type": "display_data",
          "data": {
            "text/plain": [
              "<IPython.core.display.Javascript object>"
            ],
            "application/javascript": [
              "download(\"download_cf3d56bd-3a4e-4c70-b4c0-ccd4f77ccdcf\", \"new_scenario.csv\", 3868498)"
            ]
          },
          "metadata": {}
        }
      ]
    },
    {
      "cell_type": "markdown",
      "source": [
        "## Gráfico: Weighted Average Retirement Savings Shortfall by Age Cohort and Age"
      ],
      "metadata": {
        "id": "7adcvb-hZFmC"
      }
    },
    {
      "cell_type": "markdown",
      "source": [
        "Primeiro, gerar os dados, para visualizá-los:"
      ],
      "metadata": {
        "id": "VndbMZtuZS27"
      }
    },
    {
      "cell_type": "code",
      "source": [
        "# Definir as faixas etárias e raças\n",
        "age_cohorts = [[35, 39], [40, 44], [45, 49], [50, 54], [55, 59], [60, 64]]\n",
        "races = [1, 2, 3, 4]\n",
        "\n",
        "# Criar uma lista para armazenar os resultados\n",
        "results = []\n",
        "\n",
        "# Iterar sobre as faixas etárias e raças\n",
        "for age_range in age_cohorts:\n",
        "    lower_age = age_range[0]\n",
        "    upper_age = age_range[1]\n",
        "\n",
        "    for race in races:\n",
        "        # Filtrar o DataFrame com base na faixa etária, raça e valores negativos\n",
        "        filtered_data = dados[(dados['initial_age'] >= lower_age) & (dados['initial_age'] <= upper_age) & (dados['race'] == race) & (dados['new_accumulated_capital'] < 0)]\n",
        "\n",
        "        # Calcular a média ponderada apenas se houver valores negativos\n",
        "        if not filtered_data.empty:\n",
        "            weighted_average = (filtered_data['new_accumulated_capital'] * filtered_data['weight']).sum() / filtered_data['weight'].sum()\n",
        "        else:\n",
        "            weighted_average = 0\n",
        "\n",
        "        # Adicionar o resultado à lista de resultados\n",
        "        results.append({'Age Cohort': age_range, 'Race': race, 'Weighted Average Retirement Savings Shortfall': weighted_average})\n",
        "\n",
        "# Criar um novo DataFrame com os resultados\n",
        "result_df = pd.DataFrame(results)\n",
        "\n",
        "# Imprimir o DataFrame resultante\n",
        "print(result_df)"
      ],
      "metadata": {
        "colab": {
          "base_uri": "https://localhost:8080/"
        },
        "id": "-D2LLvqOk_4C",
        "outputId": "9152a44c-598f-481c-8868-78a614f7fae5"
      },
      "execution_count": 88,
      "outputs": [
        {
          "output_type": "stream",
          "name": "stdout",
          "text": [
            "   Age Cohort  Race  Weighted Average Retirement Savings Shortfall\n",
            "0    [35, 39]     1                                 -118626.927539\n",
            "1    [35, 39]     2                                 -123998.608129\n",
            "2    [35, 39]     3                                 -116971.547488\n",
            "3    [35, 39]     4                                 -107320.667796\n",
            "4    [40, 44]     1                                 -114506.112913\n",
            "5    [40, 44]     2                                 -116368.828826\n",
            "6    [40, 44]     3                                 -122083.008901\n",
            "7    [40, 44]     4                                 -115339.420406\n",
            "8    [45, 49]     1                                 -119647.995115\n",
            "9    [45, 49]     2                                 -119261.283965\n",
            "10   [45, 49]     3                                 -125395.706616\n",
            "11   [45, 49]     4                                 -114146.711638\n",
            "12   [50, 54]     1                                 -118634.912990\n",
            "13   [50, 54]     2                                 -129632.924460\n",
            "14   [50, 54]     3                                 -120052.152998\n",
            "15   [50, 54]     4                                 -111343.895527\n",
            "16   [55, 59]     1                                 -120709.685208\n",
            "17   [55, 59]     2                                 -124604.044308\n",
            "18   [55, 59]     3                                 -118503.203768\n",
            "19   [55, 59]     4                                 -121130.318647\n",
            "20   [60, 64]     1                                 -117763.683467\n",
            "21   [60, 64]     2                                 -125937.653750\n",
            "22   [60, 64]     3                                 -134060.113702\n",
            "23   [60, 64]     4                                 -128963.099982\n"
          ]
        }
      ]
    },
    {
      "cell_type": "markdown",
      "source": [
        "O gráfico de barras será ordenado do mais negativo para o menos negativo:"
      ],
      "metadata": {
        "id": "9BK_1QhKZao6"
      }
    },
    {
      "cell_type": "code",
      "source": [
        "import matplotlib.pyplot as plt\n",
        "import seaborn as sns\n",
        "\n",
        "# Definir as faixas etárias e raças\n",
        "age_cohorts = [[35, 39], [40, 44], [45, 49], [50, 54], [55, 59], [60, 64]]\n",
        "races = [1, 2, 3, 4]\n",
        "\n",
        "# Criar uma lista para armazenar os resultados\n",
        "results = []\n",
        "\n",
        "# Iterar sobre as faixas etárias e raças\n",
        "for age_range in age_cohorts:\n",
        "    lower_age = age_range[0]\n",
        "    upper_age = age_range[1]\n",
        "\n",
        "    for race in races:\n",
        "        # Filtrar o DataFrame com base na faixa etária e raça\n",
        "        filtered_data = dados[(dados['initial_age'] >= lower_age) & (dados['initial_age'] <= upper_age) & (dados['race'] == race) & (dados['new_accumulated_capital'] < 0)]\n",
        "\n",
        "        weighted_sum = ((filtered_data['new_accumulated_capital'] * filtered_data['weight']).sum()) / filtered_data['weight'].sum()\n",
        "\n",
        "        # Adicionar o resultado à lista de resultados\n",
        "        results.append({'Age Cohort': age_range, 'Race': race, 'Weighted Average Retirement Savings Shortfall': weighted_sum})\n",
        "\n",
        "# Criar um novo DataFrame com os resultados\n",
        "result_df = pd.DataFrame(results)\n",
        "\n",
        "# Ordenar o DataFrame pelos valores em ordem crescente\n",
        "result_df = result_df.sort_values('Weighted Average Retirement Savings Shortfall')\n",
        "\n",
        "# Resetar os índices do DataFrame ordenado\n",
        "result_df = result_df.reset_index(drop=True)\n",
        "\n",
        "# Plotar gráfico de barras\n",
        "plt.figure(figsize=(10, 6))  # Define o tamanho da figura\n",
        "\n",
        "# Configurar as cores das barras usando uma paleta de cores\n",
        "colors = sns.color_palette('Greens', len(result_df))\n",
        "\n",
        "# Plotar as barras com cores diferentes\n",
        "bars = plt.bar(range(len(result_df)), result_df['Weighted Average Retirement Savings Shortfall'], align='center', color=colors)\n",
        "\n",
        "# Configurar os rótulos do eixo x\n",
        "x_ticks = [f'Age: {age_range[0]}-{age_range[1]}, Race: {race}' for age_range, race in zip(result_df['Age Cohort'], result_df['Race'])]\n",
        "plt.xticks(range(len(result_df)), x_ticks, rotation='vertical')\n",
        "\n",
        "\n",
        "# Definir rótulos e títulos do gráfico\n",
        "plt.xlabel('Age Cohort and Race')\n",
        "plt.ylabel('Weighted Average Retirement Savings Shortfall')\n",
        "plt.title('Weighted Average Retirement Savings Shortfall by Age Cohort and Race')\n",
        "\n",
        "# Exibir o gráfico\n",
        "plt.tight_layout()\n",
        "plt.show()"
      ],
      "metadata": {
        "colab": {
          "base_uri": "https://localhost:8080/",
          "height": 607
        },
        "id": "kkv_u1h2HSP6",
        "outputId": "c835f5b5-26d2-43c6-e2e8-d06f6ff4f805"
      },
      "execution_count": 89,
      "outputs": [
        {
          "output_type": "display_data",
          "data": {
            "text/plain": [
              "<Figure size 1000x600 with 1 Axes>"
            ],
            "image/png": "[encoded data removed]"
          },
          "metadata": {}
        }
      ]
    },
    {
      "cell_type": "markdown",
      "source": [
        "## Gráfico: Impact per Age Cohort"
      ],
      "metadata": {
        "id": "1DeoW9GGZ1Bt"
      }
    },
    {
      "cell_type": "markdown",
      "source": [
        "O impacto percentual será calculado pela variação percentual das razões entre a quantidade de positivos antes do Saver's Match pela população e a quantidade de positivos depois da Saver's Match pela população."
      ],
      "metadata": {
        "id": "YzVElThwZ8j-"
      }
    },
    {
      "cell_type": "code",
      "source": [
        "# Definir as faixas etárias\n",
        "age_cohorts = [[35, 39], [40, 44], [45, 49], [50, 54], [55, 59], [60, 64]]\n",
        "\n",
        "results = []\n",
        "\n",
        "for age_range in age_cohorts:\n",
        "    lower_age = age_range[0]\n",
        "    upper_age = age_range[1]\n",
        "\n",
        "    # Filtrar o DataFrame com base na faixa etária\n",
        "    filtered_data = dados[(dados['initial_age'] >= lower_age) & (dados['initial_age'] <= upper_age)]\n",
        "\n",
        "    # Filtrar apenas os valores positivos de accumulated_capital\n",
        "    positive_accumulated_capital = filtered_data[filtered_data['accumulated_capital'] > 0]\n",
        "\n",
        "    # Filtrar apenas os valores positivos de new_accumulated_capital\n",
        "    positive_new_accumulated_capital = filtered_data[filtered_data['new_accumulated_capital'] > 0]\n",
        "\n",
        "    # Contar a quantidade de valores positivos de accumulated_capital\n",
        "    count_positive_accumulated_capital = positive_accumulated_capital.shape[0]\n",
        "\n",
        "    # Contar a quantidade de valores positivos de new_accumulated_capital\n",
        "    count_positive_new_accumulated_capital = positive_new_accumulated_capital.shape[0]\n",
        "\n",
        "    # Calcular a soma dos weights\n",
        "    weight_sum = filtered_data['weight'].sum()\n",
        "\n",
        "    # Calcular a razão Count Positive Accumulated Capital / Weight Sum\n",
        "    ratio_positive_accumulated_capital = count_positive_accumulated_capital / weight_sum\n",
        "\n",
        "    # Calcular a razão Count Positive New Accumulated Capital / Weight Sum\n",
        "    ratio_positive_new_accumulated_capital = count_positive_new_accumulated_capital / weight_sum\n",
        "\n",
        "    # Calcular a variação percentual entre as razões\n",
        "    impact = ((ratio_positive_new_accumulated_capital - ratio_positive_accumulated_capital) / ratio_positive_accumulated_capital) * 100\n",
        "\n",
        "    results.append({'Age Cohort': age_range, 'Count Positive Accumulated Capital': count_positive_accumulated_capital,\n",
        "                    'Count Positive New Accumulated Capital': count_positive_new_accumulated_capital,\n",
        "                    'Weight Sum': weight_sum,\n",
        "                    'Ratio Positive Accumulated Capital': ratio_positive_accumulated_capital,\n",
        "                    'Ratio Positive New Accumulated Capital': ratio_positive_new_accumulated_capital,\n",
        "                    'Impact (%)': impact})\n",
        "\n",
        "# Criar um DataFrame com os resultados\n",
        "result_df = pd.DataFrame(results)\n",
        "\n",
        "# Imprimir o DataFrame resultante\n",
        "print(result_df)"
      ],
      "metadata": {
        "colab": {
          "base_uri": "https://localhost:8080/"
        },
        "id": "orjtucKbMo8i",
        "outputId": "543574fd-e209-4287-cd97-c962770a1a2f"
      },
      "execution_count": 92,
      "outputs": [
        {
          "output_type": "stream",
          "name": "stdout",
          "text": [
            "  Age Cohort  Count Positive Accumulated Capital  \\\n",
            "0   [35, 39]                                5135   \n",
            "1   [40, 44]                                5474   \n",
            "2   [45, 49]                                5243   \n",
            "3   [50, 54]                                4929   \n",
            "4   [55, 59]                                4443   \n",
            "5   [60, 64]                                2950   \n",
            "\n",
            "   Count Positive New Accumulated Capital  Weight Sum  \\\n",
            "0                                    5610    11943009   \n",
            "1                                    5898    12831567   \n",
            "2                                    5552    12976780   \n",
            "3                                    5147    13877625   \n",
            "4                                    4554    13180417   \n",
            "5                                    2981     9066126   \n",
            "\n",
            "   Ratio Positive Accumulated Capital  Ratio Positive New Accumulated Capital  \\\n",
            "0                            0.000430                                0.000470   \n",
            "1                            0.000427                                0.000460   \n",
            "2                            0.000404                                0.000428   \n",
            "3                            0.000355                                0.000371   \n",
            "4                            0.000337                                0.000346   \n",
            "5                            0.000325                                0.000329   \n",
            "\n",
            "   Impact (%)  \n",
            "0    9.250243  \n",
            "1    7.745707  \n",
            "2    5.893572  \n",
            "3    4.422804  \n",
            "4    2.498312  \n",
            "5    1.050847  \n"
          ]
        }
      ]
    },
    {
      "cell_type": "code",
      "source": [
        "# Configurar o estilo do Seaborn\n",
        "sns.set_style('whitegrid')\n",
        "\n",
        "# Inverter a ordem da paleta de cores\n",
        "palette = sns.color_palette('Blues', len(result_df))[::-1]\n",
        "\n",
        "# Criar o gráfico de barras\n",
        "plt.figure(figsize=(10, 6))\n",
        "bars = sns.barplot(x=[f'{age_range[0]}-{age_range[1]}' for age_range in result_df['Age Cohort']],\n",
        "                   y=result_df['Impact (%)'],\n",
        "                   palette=palette)\n",
        "\n",
        "# Adicionar os valores nas barras\n",
        "for bar in bars.patches:\n",
        "    height = bar.get_height()\n",
        "    plt.text(bar.get_x() + bar.get_width() / 2, height + 0.1, f'{height:.1f}%', ha='center', va='bottom')\n",
        "\n",
        "# Configurar os labels e o título\n",
        "plt.xlabel('Age Cohort')\n",
        "plt.ylabel('Impact (%)')\n",
        "plt.title('Impact per Age Cohort')\n",
        "\n",
        "# Exibir o gráfico\n",
        "plt.show()"
      ],
      "metadata": {
        "colab": {
          "base_uri": "https://localhost:8080/",
          "height": 564
        },
        "id": "CEMoV_kmX7Q4",
        "outputId": "251b0035-bd7a-48b7-a1ad-4eb938edb90c"
      },
      "execution_count": 94,
      "outputs": [
        {
          "output_type": "display_data",
          "data": {
            "text/plain": [
              "<Figure size 1000x600 with 1 Axes>"
            ],
            "image/png": "[encoded data removed]"
          },
          "metadata": {}
        }
      ]
    }
  ]
}